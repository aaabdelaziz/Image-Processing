{
 "cells": [
  {
   "cell_type": "code",
   "execution_count": null,
   "id": "dcd30b7d",
   "metadata": {},
   "outputs": [],
   "source": [
    "# Install from terminal \n",
    "# pip install opencv-python\n",
    "# pip install ipykernel \n"
   ]
  },
  {
   "cell_type": "code",
   "execution_count": null,
   "id": "13ed30ab",
   "metadata": {},
   "outputs": [],
   "source": [
    "# Import for OpenCV\n",
    "import cv2 \n"
   ]
  },
  {
   "cell_type": "code",
   "execution_count": null,
   "id": "cc9f7ebd",
   "metadata": {},
   "outputs": [],
   "source": [
    "# Read the Image\n",
    "image = cv2.imread(\"./mountain.jpg\")"
   ]
  },
  {
   "cell_type": "code",
   "execution_count": null,
   "id": "0985f1f0",
   "metadata": {},
   "outputs": [
    {
     "name": "stdout",
     "output_type": "stream",
     "text": [
      "Image Loaded Successfully.\n"
     ]
    }
   ],
   "source": [
    "# Check if the image is loaded\n",
    "if image is None:\n",
    "    print(\" Error: Can't load the image\")\n",
    "else:\n",
    "    print(\"Image Loaded Successfully.\")"
   ]
  },
  {
   "cell_type": "code",
   "execution_count": null,
   "id": "1c462c06",
   "metadata": {},
   "outputs": [],
   "source": [
    "# Display the image\n",
    "cv2.imshow(\"Image Window\", image)\n",
    "cv2.waitKey(0)\n",
    "cv2.destroyAllWindows()"
   ]
  },
  {
   "cell_type": "code",
   "execution_count": null,
   "id": "f76c08dd",
   "metadata": {},
   "outputs": [],
   "source": [
    "# Write to the image\n",
    "image_new = image + 30 \n",
    "cv2.imwrite(\"./output.jpg\" , image_new)"
   ]
  }
 ],
 "metadata": {
  "kernelspec": {
   "display_name": "base",
   "language": "python",
   "name": "python3"
  },
  "language_info": {
   "codemirror_mode": {
    "name": "ipython",
    "version": 3
   },
   "file_extension": ".py",
   "mimetype": "text/x-python",
   "name": "python",
   "nbconvert_exporter": "python",
   "pygments_lexer": "ipython3",
   "version": "3.12.7"
  }
 },
 "nbformat": 4,
 "nbformat_minor": 5
}
