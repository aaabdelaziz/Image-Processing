{
 "cells": [
  {
   "cell_type": "code",
   "execution_count": 1,
   "id": "0809a21e",
   "metadata": {},
   "outputs": [],
   "source": [
    "# Install from terminal  first these packages, then run the python file\n",
    "# pip install opencv-python\n",
    "# pip install ipykernel \n",
    "\n",
    "# Import for OpenCV\n",
    "import cv2 \n",
    "\n",
    "# Read the original Image\n",
    "image = cv2.imread(\"./mountain.jpg\")\n"
   ]
  },
  {
   "cell_type": "code",
   "execution_count": 2,
   "id": "80da424e",
   "metadata": {},
   "outputs": [
    {
     "name": "stdout",
     "output_type": "stream",
     "text": [
      "Image Loaded Successfully.\n"
     ]
    }
   ],
   "source": [
    "\n",
    "\n",
    "# Check if the image is loaded\n",
    "if image is None:\n",
    "    print(\" Error: Can't load the image\")\n",
    "else:\n",
    "    print(\"Image Loaded Successfully.\")\n",
    "\n",
    "while True:\n",
    "\n",
    "    # Display the image\n",
    "    cv2.imshow(\"Image Window\", image)\n",
    "    # Close the image if w is pressed \n",
    "    if cv2.waitKey(0) & 0xFF == ord('w'):\n",
    "        break \n",
    "\n",
    "cv2.destroyAllWindows()\n"
   ]
  },
  {
   "cell_type": "code",
   "execution_count": null,
   "id": "cbdc5fe5",
   "metadata": {},
   "outputs": [],
   "source": [
    "while True:\n",
    "\n",
    "    # Write to the image\n",
    "    image_new = image + 30 \n",
    "    cv2.imwrite(\"./output.jpg\", image_new)\n",
    "\n",
    "    # Display the image\n",
    "    cv2.imshow(\"Modified Image\", image_new)\n",
    "\n",
    "# Close the image if q is pressed \n",
    "if cv2.waitKey(0) & 0xFF == ord('q'):\n",
    "        break \n",
    "\n",
    "cv2.destroyAllWindows()"
   ]
  }
 ],
 "metadata": {
  "kernelspec": {
   "display_name": "base",
   "language": "python",
   "name": "python3"
  },
  "language_info": {
   "codemirror_mode": {
    "name": "ipython",
    "version": 3
   },
   "file_extension": ".py",
   "mimetype": "text/x-python",
   "name": "python",
   "nbconvert_exporter": "python",
   "pygments_lexer": "ipython3",
   "version": "3.12.7"
  }
 },
 "nbformat": 4,
 "nbformat_minor": 5
}
